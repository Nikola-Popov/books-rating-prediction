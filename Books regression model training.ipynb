{
 "cells": [
  {
   "cell_type": "code",
   "execution_count": 1,
   "metadata": {},
   "outputs": [],
   "source": [
    "import pandas as pd\n",
    "import numpy as np\n",
    "import matplotlib.pyplot as plt\n",
    "import seaborn as sns\n",
    "from math import floor\n",
    "\n",
    "import pickle\n",
    "import warnings\n",
    "\n",
    "from sklearn.linear_model import LinearRegression\n",
    "from sklearn.tree import DecisionTreeRegressor\n",
    "from sklearn.neighbors import KNeighborsRegressor\n",
    "from sklearn.ensemble import GradientBoostingRegressor, AdaBoostRegressor\n",
    "from sklearn.svm import LinearSVR, SVR\n",
    "\n",
    "from sklearn.model_selection import KFold, GridSearchCV, train_test_split\n",
    "from sklearn.preprocessing import StandardScaler, LabelEncoder, PolynomialFeatures\n",
    "from sklearn.metrics import r2_score,mean_squared_error "
   ]
  },
  {
   "cell_type": "code",
   "execution_count": 2,
   "metadata": {},
   "outputs": [],
   "source": [
    "%matplotlib inline\n",
    "np.random.seed(24680)\n",
    "warnings.filterwarnings(\"ignore\")"
   ]
  },
  {
   "cell_type": "markdown",
   "metadata": {},
   "source": [
    "# Training a prediction model for the average rating of a book\n",
    "---\n",
    "### Motivation\n",
    "This project will serve as an item based recommendation system for the average rating of a book. Thus no new user preferences will be taken into account. We will solely rely on the already rated books.\n",
    "\n",
    "### Data source\n",
    "The dataset is a sample from Goodreads.com and is published at: https://www.kaggle.com/jealousleopard/goodreadsbooks"
   ]
  },
  {
   "cell_type": "code",
   "execution_count": 3,
   "metadata": {},
   "outputs": [],
   "source": [
    "books_data = pd.read_csv(\"datasets/books.csv\",\n",
    "                         error_bad_lines=False,\n",
    "                         warn_bad_lines=False)"
   ]
  },
  {
   "cell_type": "markdown",
   "metadata": {},
   "source": [
    "### Columns description: \n",
    "- **bookID** unique Identification number for each book.\n",
    "- **title** The name under which the book was published.\n",
    "- **authorsNames** of the authors of the book. Multiple authors are delimited with -.\n",
    "- **average_rating** The average rating of the book received in total.\n",
    "- **isbn** Another unique number to identify the book, the International Standard Book Number.\n",
    "- **isbn13** A 13-digit ISBN to identify the book, instead of the standard 11-digit ISBN.\n",
    "- **language_code** Helps understand what is the primary language of the book. For instance, eng is standard for English.\n",
    "- **\\# num_pages** Number of pages the book contains.\n",
    "- **ratings_count** Total number of ratings the book received.\n",
    "- **text_reviews_count** Total number of written text reviews the book received."
   ]
  },
  {
   "cell_type": "code",
   "execution_count": 4,
   "metadata": {},
   "outputs": [
    {
     "data": {
      "text/html": [
       "<div>\n",
       "<style scoped>\n",
       "    .dataframe tbody tr th:only-of-type {\n",
       "        vertical-align: middle;\n",
       "    }\n",
       "\n",
       "    .dataframe tbody tr th {\n",
       "        vertical-align: top;\n",
       "    }\n",
       "\n",
       "    .dataframe thead th {\n",
       "        text-align: right;\n",
       "    }\n",
       "</style>\n",
       "<table border=\"1\" class=\"dataframe\">\n",
       "  <thead>\n",
       "    <tr style=\"text-align: right;\">\n",
       "      <th></th>\n",
       "      <th>bookID</th>\n",
       "      <th>title</th>\n",
       "      <th>authors</th>\n",
       "      <th>average_rating</th>\n",
       "      <th>isbn</th>\n",
       "      <th>isbn13</th>\n",
       "      <th>language_code</th>\n",
       "      <th># num_pages</th>\n",
       "      <th>ratings_count</th>\n",
       "      <th>text_reviews_count</th>\n",
       "    </tr>\n",
       "  </thead>\n",
       "  <tbody>\n",
       "    <tr>\n",
       "      <td>11211</td>\n",
       "      <td>37476</td>\n",
       "      <td>Why I Hate Canadians</td>\n",
       "      <td>Will Ferguson</td>\n",
       "      <td>3.71</td>\n",
       "      <td>1550546007</td>\n",
       "      <td>9781550546002</td>\n",
       "      <td>en-GB</td>\n",
       "      <td>220</td>\n",
       "      <td>608</td>\n",
       "      <td>47</td>\n",
       "    </tr>\n",
       "    <tr>\n",
       "      <td>12959</td>\n",
       "      <td>44739</td>\n",
       "      <td>Graphic Design Solutions</td>\n",
       "      <td>Robin Landa</td>\n",
       "      <td>4.03</td>\n",
       "      <td>1401881548</td>\n",
       "      <td>9781401881542</td>\n",
       "      <td>en-US</td>\n",
       "      <td>403</td>\n",
       "      <td>138</td>\n",
       "      <td>11</td>\n",
       "    </tr>\n",
       "    <tr>\n",
       "      <td>7068</td>\n",
       "      <td>22188</td>\n",
       "      <td>Gossip Girl (Gossip Girl  #1)</td>\n",
       "      <td>Cecily von Ziegesar</td>\n",
       "      <td>3.51</td>\n",
       "      <td>0316910333</td>\n",
       "      <td>9780316910330</td>\n",
       "      <td>eng</td>\n",
       "      <td>224</td>\n",
       "      <td>53230</td>\n",
       "      <td>2245</td>\n",
       "    </tr>\n",
       "    <tr>\n",
       "      <td>5061</td>\n",
       "      <td>15138</td>\n",
       "      <td>La mujer del viajero en el tiempo</td>\n",
       "      <td>Audrey Niffenegger-Silvia Alemany</td>\n",
       "      <td>3.96</td>\n",
       "      <td>0307344835</td>\n",
       "      <td>9780307344830</td>\n",
       "      <td>spa</td>\n",
       "      <td>608</td>\n",
       "      <td>19</td>\n",
       "      <td>2</td>\n",
       "    </tr>\n",
       "    <tr>\n",
       "      <td>8853</td>\n",
       "      <td>28466</td>\n",
       "      <td>ADHD in Adulthood: A Guide to Current Theory  ...</td>\n",
       "      <td>Margaret Weiss-Gabrielle Weiss-Lily Trokenberg...</td>\n",
       "      <td>3.40</td>\n",
       "      <td>080186822X</td>\n",
       "      <td>9780801868221</td>\n",
       "      <td>eng</td>\n",
       "      <td>376</td>\n",
       "      <td>5</td>\n",
       "      <td>0</td>\n",
       "    </tr>\n",
       "  </tbody>\n",
       "</table>\n",
       "</div>"
      ],
      "text/plain": [
       "       bookID                                              title  \\\n",
       "11211   37476                               Why I Hate Canadians   \n",
       "12959   44739                           Graphic Design Solutions   \n",
       "7068    22188                      Gossip Girl (Gossip Girl  #1)   \n",
       "5061    15138                  La mujer del viajero en el tiempo   \n",
       "8853    28466  ADHD in Adulthood: A Guide to Current Theory  ...   \n",
       "\n",
       "                                                 authors  average_rating  \\\n",
       "11211                                      Will Ferguson            3.71   \n",
       "12959                                        Robin Landa            4.03   \n",
       "7068                                 Cecily von Ziegesar            3.51   \n",
       "5061                   Audrey Niffenegger-Silvia Alemany            3.96   \n",
       "8853   Margaret Weiss-Gabrielle Weiss-Lily Trokenberg...            3.40   \n",
       "\n",
       "             isbn         isbn13 language_code  # num_pages  ratings_count  \\\n",
       "11211  1550546007  9781550546002         en-GB          220            608   \n",
       "12959  1401881548  9781401881542         en-US          403            138   \n",
       "7068   0316910333  9780316910330           eng          224          53230   \n",
       "5061   0307344835  9780307344830           spa          608             19   \n",
       "8853   080186822X  9780801868221           eng          376              5   \n",
       "\n",
       "       text_reviews_count  \n",
       "11211                  47  \n",
       "12959                  11  \n",
       "7068                 2245  \n",
       "5061                    2  \n",
       "8853                    0  "
      ]
     },
     "execution_count": 4,
     "metadata": {},
     "output_type": "execute_result"
    }
   ],
   "source": [
    "books_data.sample(5)"
   ]
  },
  {
   "cell_type": "code",
   "execution_count": 5,
   "metadata": {},
   "outputs": [
    {
     "data": {
      "text/plain": [
       "(13714, 10)"
      ]
     },
     "execution_count": 5,
     "metadata": {},
     "output_type": "execute_result"
    }
   ],
   "source": [
    "books_data.shape"
   ]
  },
  {
   "cell_type": "code",
   "execution_count": 6,
   "metadata": {},
   "outputs": [
    {
     "data": {
      "text/plain": [
       "bookID                  int64\n",
       "title                  object\n",
       "authors                object\n",
       "average_rating        float64\n",
       "isbn                   object\n",
       "isbn13                  int64\n",
       "language_code          object\n",
       "# num_pages             int64\n",
       "ratings_count           int64\n",
       "text_reviews_count      int64\n",
       "dtype: object"
      ]
     },
     "execution_count": 6,
     "metadata": {},
     "output_type": "execute_result"
    }
   ],
   "source": [
    "books_data.dtypes"
   ]
  },
  {
   "cell_type": "code",
   "execution_count": 7,
   "metadata": {},
   "outputs": [
    {
     "data": {
      "text/plain": [
       "False"
      ]
     },
     "execution_count": 7,
     "metadata": {},
     "output_type": "execute_result"
    }
   ],
   "source": [
    "books_data.isna().any().any()"
   ]
  },
  {
   "cell_type": "markdown",
   "metadata": {},
   "source": [
    "There are no NA values in the dataset."
   ]
  },
  {
   "cell_type": "code",
   "execution_count": 8,
   "metadata": {},
   "outputs": [],
   "source": [
    "books_data.rename(columns={\"# num_pages\":\"pages_count\"}, inplace=True)"
   ]
  },
  {
   "cell_type": "code",
   "execution_count": 9,
   "metadata": {},
   "outputs": [
    {
     "data": {
      "text/html": [
       "<div>\n",
       "<style scoped>\n",
       "    .dataframe tbody tr th:only-of-type {\n",
       "        vertical-align: middle;\n",
       "    }\n",
       "\n",
       "    .dataframe tbody tr th {\n",
       "        vertical-align: top;\n",
       "    }\n",
       "\n",
       "    .dataframe thead th {\n",
       "        text-align: right;\n",
       "    }\n",
       "</style>\n",
       "<table border=\"1\" class=\"dataframe\">\n",
       "  <thead>\n",
       "    <tr style=\"text-align: right;\">\n",
       "      <th></th>\n",
       "      <th>bookID</th>\n",
       "      <th>title</th>\n",
       "      <th>authors</th>\n",
       "      <th>average_rating</th>\n",
       "      <th>isbn</th>\n",
       "      <th>isbn13</th>\n",
       "      <th>language_code</th>\n",
       "      <th>pages_count</th>\n",
       "      <th>ratings_count</th>\n",
       "      <th>text_reviews_count</th>\n",
       "    </tr>\n",
       "  </thead>\n",
       "  <tbody>\n",
       "    <tr>\n",
       "      <td>2643</td>\n",
       "      <td>7967</td>\n",
       "      <td>Speaker for the Dead (Ender's Saga  #2)</td>\n",
       "      <td>Orson Scott Card</td>\n",
       "      <td>4.06</td>\n",
       "      <td>0812550757</td>\n",
       "      <td>9780812550757</td>\n",
       "      <td>eng</td>\n",
       "      <td>382</td>\n",
       "      <td>182235</td>\n",
       "      <td>6426</td>\n",
       "    </tr>\n",
       "    <tr>\n",
       "      <td>12966</td>\n",
       "      <td>44766</td>\n",
       "      <td>Purple Cane Road (Dave Robicheaux  #11)</td>\n",
       "      <td>James Lee Burke</td>\n",
       "      <td>4.15</td>\n",
       "      <td>0440224047</td>\n",
       "      <td>9780440224044</td>\n",
       "      <td>en-US</td>\n",
       "      <td>387</td>\n",
       "      <td>5304</td>\n",
       "      <td>237</td>\n",
       "    </tr>\n",
       "    <tr>\n",
       "      <td>1636</td>\n",
       "      <td>4909</td>\n",
       "      <td>Teacher Man (Frank McCourt  #3)</td>\n",
       "      <td>Frank McCourt</td>\n",
       "      <td>3.75</td>\n",
       "      <td>0743243781</td>\n",
       "      <td>9780743243780</td>\n",
       "      <td>eng</td>\n",
       "      <td>272</td>\n",
       "      <td>25726</td>\n",
       "      <td>1991</td>\n",
       "    </tr>\n",
       "    <tr>\n",
       "      <td>13133</td>\n",
       "      <td>45438</td>\n",
       "      <td>Legend of the Worst Boy in the World</td>\n",
       "      <td>Eoin Colfer-Glenn McCoy</td>\n",
       "      <td>3.74</td>\n",
       "      <td>0786855037</td>\n",
       "      <td>9780786855032</td>\n",
       "      <td>en-US</td>\n",
       "      <td>101</td>\n",
       "      <td>321</td>\n",
       "      <td>44</td>\n",
       "    </tr>\n",
       "    <tr>\n",
       "      <td>13077</td>\n",
       "      <td>45251</td>\n",
       "      <td>Judas Unchained (Commonwealth Saga  #2)</td>\n",
       "      <td>Peter F. Hamilton</td>\n",
       "      <td>4.31</td>\n",
       "      <td>0345461673</td>\n",
       "      <td>9780345461674</td>\n",
       "      <td>en-US</td>\n",
       "      <td>1008</td>\n",
       "      <td>707</td>\n",
       "      <td>67</td>\n",
       "    </tr>\n",
       "  </tbody>\n",
       "</table>\n",
       "</div>"
      ],
      "text/plain": [
       "       bookID                                    title  \\\n",
       "2643     7967  Speaker for the Dead (Ender's Saga  #2)   \n",
       "12966   44766  Purple Cane Road (Dave Robicheaux  #11)   \n",
       "1636     4909          Teacher Man (Frank McCourt  #3)   \n",
       "13133   45438     Legend of the Worst Boy in the World   \n",
       "13077   45251  Judas Unchained (Commonwealth Saga  #2)   \n",
       "\n",
       "                       authors  average_rating        isbn         isbn13  \\\n",
       "2643          Orson Scott Card            4.06  0812550757  9780812550757   \n",
       "12966          James Lee Burke            4.15  0440224047  9780440224044   \n",
       "1636             Frank McCourt            3.75  0743243781  9780743243780   \n",
       "13133  Eoin Colfer-Glenn McCoy            3.74  0786855037  9780786855032   \n",
       "13077        Peter F. Hamilton            4.31  0345461673  9780345461674   \n",
       "\n",
       "      language_code  pages_count  ratings_count  text_reviews_count  \n",
       "2643            eng          382         182235                6426  \n",
       "12966         en-US          387           5304                 237  \n",
       "1636            eng          272          25726                1991  \n",
       "13133         en-US          101            321                  44  \n",
       "13077         en-US         1008            707                  67  "
      ]
     },
     "execution_count": 9,
     "metadata": {},
     "output_type": "execute_result"
    }
   ],
   "source": [
    "books_data.sample(5)"
   ]
  },
  {
   "cell_type": "markdown",
   "metadata": {},
   "source": [
    "Also bookID, isbn and isbn13 are just unique identifiers so I will drop them as they will not provide any additional information."
   ]
  },
  {
   "cell_type": "code",
   "execution_count": 10,
   "metadata": {},
   "outputs": [
    {
     "data": {
      "text/html": [
       "<div>\n",
       "<style scoped>\n",
       "    .dataframe tbody tr th:only-of-type {\n",
       "        vertical-align: middle;\n",
       "    }\n",
       "\n",
       "    .dataframe tbody tr th {\n",
       "        vertical-align: top;\n",
       "    }\n",
       "\n",
       "    .dataframe thead th {\n",
       "        text-align: right;\n",
       "    }\n",
       "</style>\n",
       "<table border=\"1\" class=\"dataframe\">\n",
       "  <thead>\n",
       "    <tr style=\"text-align: right;\">\n",
       "      <th></th>\n",
       "      <th>title</th>\n",
       "      <th>authors</th>\n",
       "      <th>average_rating</th>\n",
       "      <th>language_code</th>\n",
       "      <th>pages_count</th>\n",
       "      <th>ratings_count</th>\n",
       "      <th>text_reviews_count</th>\n",
       "    </tr>\n",
       "  </thead>\n",
       "  <tbody>\n",
       "    <tr>\n",
       "      <td>8941</td>\n",
       "      <td>Ratner's Star</td>\n",
       "      <td>Don DeLillo</td>\n",
       "      <td>3.49</td>\n",
       "      <td>eng</td>\n",
       "      <td>448</td>\n",
       "      <td>1478</td>\n",
       "      <td>98</td>\n",
       "    </tr>\n",
       "    <tr>\n",
       "      <td>6397</td>\n",
       "      <td>Moral Politics: How Liberals and Conservatives...</td>\n",
       "      <td>George Lakoff</td>\n",
       "      <td>4.03</td>\n",
       "      <td>eng</td>\n",
       "      <td>471</td>\n",
       "      <td>1215</td>\n",
       "      <td>129</td>\n",
       "    </tr>\n",
       "    <tr>\n",
       "      <td>8705</td>\n",
       "      <td>Accordion Crimes</td>\n",
       "      <td>Annie Proulx</td>\n",
       "      <td>3.59</td>\n",
       "      <td>eng</td>\n",
       "      <td>432</td>\n",
       "      <td>5533</td>\n",
       "      <td>441</td>\n",
       "    </tr>\n",
       "    <tr>\n",
       "      <td>5941</td>\n",
       "      <td>The Books of Magic</td>\n",
       "      <td>Neil Gaiman-John Bolton-Scott Hampton-Charles ...</td>\n",
       "      <td>4.08</td>\n",
       "      <td>eng</td>\n",
       "      <td>200</td>\n",
       "      <td>13358</td>\n",
       "      <td>459</td>\n",
       "    </tr>\n",
       "    <tr>\n",
       "      <td>8528</td>\n",
       "      <td>Glass House</td>\n",
       "      <td>Philip Johnson-Toshio Nakamura</td>\n",
       "      <td>4.00</td>\n",
       "      <td>eng</td>\n",
       "      <td>256</td>\n",
       "      <td>14</td>\n",
       "      <td>2</td>\n",
       "    </tr>\n",
       "  </tbody>\n",
       "</table>\n",
       "</div>"
      ],
      "text/plain": [
       "                                                  title  \\\n",
       "8941                                      Ratner's Star   \n",
       "6397  Moral Politics: How Liberals and Conservatives...   \n",
       "8705                                   Accordion Crimes   \n",
       "5941                                 The Books of Magic   \n",
       "8528                                        Glass House   \n",
       "\n",
       "                                                authors  average_rating  \\\n",
       "8941                                        Don DeLillo            3.49   \n",
       "6397                                      George Lakoff            4.03   \n",
       "8705                                       Annie Proulx            3.59   \n",
       "5941  Neil Gaiman-John Bolton-Scott Hampton-Charles ...            4.08   \n",
       "8528                     Philip Johnson-Toshio Nakamura            4.00   \n",
       "\n",
       "     language_code  pages_count  ratings_count  text_reviews_count  \n",
       "8941           eng          448           1478                  98  \n",
       "6397           eng          471           1215                 129  \n",
       "8705           eng          432           5533                 441  \n",
       "5941           eng          200          13358                 459  \n",
       "8528           eng          256             14                   2  "
      ]
     },
     "execution_count": 10,
     "metadata": {},
     "output_type": "execute_result"
    }
   ],
   "source": [
    "books_data = books_data.drop([\"bookID\", \"isbn\", \"isbn13\"], axis = 1)\n",
    "books_data.sample(5)"
   ]
  },
  {
   "cell_type": "code",
   "execution_count": 11,
   "metadata": {},
   "outputs": [
    {
     "name": "stdout",
     "output_type": "stream",
     "text": [
      "The following heatmap displays the correlation between the features:\n"
     ]
    },
    {
     "data": {
      "text/plain": [
       "<matplotlib.axes._subplots.AxesSubplot at 0x7f26505fd160>"
      ]
     },
     "execution_count": 11,
     "metadata": {},
     "output_type": "execute_result"
    },
    {
     "data": {
      "image/png": "[encoded data removed]",
      "text/plain": [
       "<Figure size 432x288 with 2 Axes>"
      ]
     },
     "metadata": {
      "needs_background": "light"
     },
     "output_type": "display_data"
    }
   ],
   "source": [
    "print(\"The following heatmap displays the correlation between the features:\")\n",
    "\n",
    "sns.heatmap(data=books_data.corr(),\n",
    "            linewidths=0.25, square=True,\n",
    "            linecolor=\"black\", annot=True)"
   ]
  },
  {
   "cell_type": "markdown",
   "metadata": {},
   "source": [
    "We see a high correlation between the ratings_count and the text_reviews_count (~ 86%). From this \n",
    "we can conclude that when a person writes a review he/she will most likely also rate the book itself."
   ]
  },
  {
   "cell_type": "markdown",
   "metadata": {},
   "source": [
    "Let's examine the top 10 most rated books."
   ]
  },
  {
   "cell_type": "code",
   "execution_count": 12,
   "metadata": {},
   "outputs": [
    {
     "data": {
      "text/html": [
       "<div>\n",
       "<style scoped>\n",
       "    .dataframe tbody tr th:only-of-type {\n",
       "        vertical-align: middle;\n",
       "    }\n",
       "\n",
       "    .dataframe tbody tr th {\n",
       "        vertical-align: top;\n",
       "    }\n",
       "\n",
       "    .dataframe thead th {\n",
       "        text-align: right;\n",
       "    }\n",
       "</style>\n",
       "<table border=\"1\" class=\"dataframe\">\n",
       "  <thead>\n",
       "    <tr style=\"text-align: right;\">\n",
       "      <th></th>\n",
       "      <th>title</th>\n",
       "      <th>ratings_count</th>\n",
       "    </tr>\n",
       "  </thead>\n",
       "  <tbody>\n",
       "    <tr>\n",
       "      <td>2</td>\n",
       "      <td>Harry Potter and the Sorcerer's Stone (Harry P...</td>\n",
       "      <td>5629932</td>\n",
       "    </tr>\n",
       "    <tr>\n",
       "      <td>12243</td>\n",
       "      <td>Twilight (Twilight  #1)</td>\n",
       "      <td>4367341</td>\n",
       "    </tr>\n",
       "    <tr>\n",
       "      <td>2000</td>\n",
       "      <td>The Hobbit or There and Back Again</td>\n",
       "      <td>2364968</td>\n",
       "    </tr>\n",
       "    <tr>\n",
       "      <td>1717</td>\n",
       "      <td>The Catcher in the Rye</td>\n",
       "      <td>2318478</td>\n",
       "    </tr>\n",
       "    <tr>\n",
       "      <td>340</td>\n",
       "      <td>Angels &amp; Demons (Robert Langdon  #1)</td>\n",
       "      <td>2279854</td>\n",
       "    </tr>\n",
       "    <tr>\n",
       "      <td>4</td>\n",
       "      <td>Harry Potter and the Prisoner of Azkaban (Harr...</td>\n",
       "      <td>2149872</td>\n",
       "    </tr>\n",
       "    <tr>\n",
       "      <td>5300</td>\n",
       "      <td>Harry Potter and the Chamber of Secrets (Harry...</td>\n",
       "      <td>2115562</td>\n",
       "    </tr>\n",
       "    <tr>\n",
       "      <td>2505</td>\n",
       "      <td>Animal Farm</td>\n",
       "      <td>2102616</td>\n",
       "    </tr>\n",
       "    <tr>\n",
       "      <td>25</td>\n",
       "      <td>The Fellowship of the Ring (The Lord of the Ri...</td>\n",
       "      <td>2009749</td>\n",
       "    </tr>\n",
       "    <tr>\n",
       "      <td>1</td>\n",
       "      <td>Harry Potter and the Order of the Phoenix (Har...</td>\n",
       "      <td>1996446</td>\n",
       "    </tr>\n",
       "  </tbody>\n",
       "</table>\n",
       "</div>"
      ],
      "text/plain": [
       "                                                   title  ratings_count\n",
       "2      Harry Potter and the Sorcerer's Stone (Harry P...        5629932\n",
       "12243                            Twilight (Twilight  #1)        4367341\n",
       "2000                  The Hobbit or There and Back Again        2364968\n",
       "1717                              The Catcher in the Rye        2318478\n",
       "340                 Angels & Demons (Robert Langdon  #1)        2279854\n",
       "4      Harry Potter and the Prisoner of Azkaban (Harr...        2149872\n",
       "5300   Harry Potter and the Chamber of Secrets (Harry...        2115562\n",
       "2505                                         Animal Farm        2102616\n",
       "25     The Fellowship of the Ring (The Lord of the Ri...        2009749\n",
       "1      Harry Potter and the Order of the Phoenix (Har...        1996446"
      ]
     },
     "execution_count": 12,
     "metadata": {},
     "output_type": "execute_result"
    }
   ],
   "source": [
    "most_rated = books_data.sort_values(by=\"ratings_count\", ascending = False).head(10)\n",
    "\n",
    "most_rated_titles = pd.DataFrame(most_rated.title).join(pd.DataFrame(most_rated.ratings_count))\n",
    "most_rated_titles"
   ]
  },
  {
   "cell_type": "code",
   "execution_count": 13,
   "metadata": {},
   "outputs": [
    {
     "data": {
      "text/plain": [
       "Text(0, 0.5, 'Titles')"
      ]
     },
     "execution_count": 13,
     "metadata": {},
     "output_type": "execute_result"
    },
    {
     "data": {
      "image/png": "[encoded data removed]",
      "text/plain": [
       "<Figure size 576x576 with 1 Axes>"
      ]
     },
     "metadata": {
      "needs_background": "light"
     },
     "output_type": "display_data"
    }
   ],
   "source": [
    "fig, ax = plt.subplots(figsize=(8, 8))\n",
    "ax.invert_yaxis()\n",
    "plt.bar(most_rated_titles.ratings_count, most_rated_titles.title,\n",
    "        align=\"center\")\n",
    "plt.title(\"Top 10 Books: Most Rated\")\n",
    "plt.xlabel(\"Ratings count\")\n",
    "plt.ylabel(\"Titles\")"
   ]
  },
  {
   "cell_type": "code",
   "execution_count": 14,
   "metadata": {},
   "outputs": [],
   "source": [
    "def scatter_plot(x, y, title, x_label, y_label):\n",
    "    plt.subplots(figsize=(8, 8))\n",
    "    plt.scatter(x,\n",
    "                y)\n",
    "    plt.title(title)\n",
    "    plt.xlabel(x_label)\n",
    "    plt.ylabel(y_label)"
   ]
  },
  {
   "cell_type": "code",
   "execution_count": 15,
   "metadata": {},
   "outputs": [
    {
     "data": {
      "image/png": "[encoded data removed]",
      "text/plain": [
       "<Figure size 576x576 with 1 Axes>"
      ]
     },
     "metadata": {
      "needs_background": "light"
     },
     "output_type": "display_data"
    }
   ],
   "source": [
    "pages_count_and_average_rating_title = \"Relation between pages count and average rating\"\n",
    "average_rating_label = \"Average rating\"\n",
    "pages_count_label = \"Pages count\"\n",
    "scatter_plot(books_data.average_rating,\n",
    "             books_data.pages_count,\n",
    "            pages_count_and_average_rating_title, average_rating_label, pages_count_label)"
   ]
  },
  {
   "cell_type": "markdown",
   "metadata": {},
   "source": [
    "There are a lot of outliers here. We can see that is no significant relation between average rating and the count of pages of a book.\n",
    "\n",
    "The heatmap also proved this as it displayed a ration of 0.17.\n",
    "Will drop the ourlier (with pages count >= 2000)."
   ]
  },
  {
   "cell_type": "code",
   "execution_count": 16,
   "metadata": {},
   "outputs": [
    {
     "data": {
      "image/png": "[encoded data removed]",
      "text/plain": [
       "<Figure size 576x576 with 1 Axes>"
      ]
     },
     "metadata": {
      "needs_background": "light"
     },
     "output_type": "display_data"
    }
   ],
   "source": [
    "books_data = books_data.drop(books_data.index[books_data[\"pages_count\"] >= 2000])\n",
    "pages_count_and_average_rating_title = \"Relation between pages count and average rating\"\n",
    "average_rating_label = \"Average rating\"\n",
    "pages_count_label = \"Pages count\"\n",
    "scatter_plot(books_data.average_rating,\n",
    "             books_data.pages_count,\n",
    "            pages_count_and_average_rating_title, average_rating_label, pages_count_label)"
   ]
  },
  {
   "cell_type": "code",
   "execution_count": 17,
   "metadata": {},
   "outputs": [
    {
     "name": "stdout",
     "output_type": "stream",
     "text": [
      "Let`s focus on books ranging between 1-1500 pages.\n"
     ]
    },
    {
     "data": {
      "text/html": [
       "<div>\n",
       "<style scoped>\n",
       "    .dataframe tbody tr th:only-of-type {\n",
       "        vertical-align: middle;\n",
       "    }\n",
       "\n",
       "    .dataframe tbody tr th {\n",
       "        vertical-align: top;\n",
       "    }\n",
       "\n",
       "    .dataframe thead th {\n",
       "        text-align: right;\n",
       "    }\n",
       "</style>\n",
       "<table border=\"1\" class=\"dataframe\">\n",
       "  <thead>\n",
       "    <tr style=\"text-align: right;\">\n",
       "      <th></th>\n",
       "      <th>title</th>\n",
       "      <th>authors</th>\n",
       "      <th>average_rating</th>\n",
       "      <th>language_code</th>\n",
       "      <th>pages_count</th>\n",
       "      <th>ratings_count</th>\n",
       "      <th>text_reviews_count</th>\n",
       "    </tr>\n",
       "  </thead>\n",
       "  <tbody>\n",
       "    <tr>\n",
       "      <td>0</td>\n",
       "      <td>Harry Potter and the Half-Blood Prince (Harry ...</td>\n",
       "      <td>J.K. Rowling-Mary GrandPré</td>\n",
       "      <td>4.56</td>\n",
       "      <td>eng</td>\n",
       "      <td>652</td>\n",
       "      <td>1944099</td>\n",
       "      <td>26249</td>\n",
       "    </tr>\n",
       "    <tr>\n",
       "      <td>1</td>\n",
       "      <td>Harry Potter and the Order of the Phoenix (Har...</td>\n",
       "      <td>J.K. Rowling-Mary GrandPré</td>\n",
       "      <td>4.49</td>\n",
       "      <td>eng</td>\n",
       "      <td>870</td>\n",
       "      <td>1996446</td>\n",
       "      <td>27613</td>\n",
       "    </tr>\n",
       "    <tr>\n",
       "      <td>2</td>\n",
       "      <td>Harry Potter and the Sorcerer's Stone (Harry P...</td>\n",
       "      <td>J.K. Rowling-Mary GrandPré</td>\n",
       "      <td>4.47</td>\n",
       "      <td>eng</td>\n",
       "      <td>320</td>\n",
       "      <td>5629932</td>\n",
       "      <td>70390</td>\n",
       "    </tr>\n",
       "    <tr>\n",
       "      <td>3</td>\n",
       "      <td>Harry Potter and the Chamber of Secrets (Harry...</td>\n",
       "      <td>J.K. Rowling</td>\n",
       "      <td>4.41</td>\n",
       "      <td>eng</td>\n",
       "      <td>352</td>\n",
       "      <td>6267</td>\n",
       "      <td>272</td>\n",
       "    </tr>\n",
       "    <tr>\n",
       "      <td>4</td>\n",
       "      <td>Harry Potter and the Prisoner of Azkaban (Harr...</td>\n",
       "      <td>J.K. Rowling-Mary GrandPré</td>\n",
       "      <td>4.55</td>\n",
       "      <td>eng</td>\n",
       "      <td>435</td>\n",
       "      <td>2149872</td>\n",
       "      <td>33964</td>\n",
       "    </tr>\n",
       "    <tr>\n",
       "      <td>...</td>\n",
       "      <td>...</td>\n",
       "      <td>...</td>\n",
       "      <td>...</td>\n",
       "      <td>...</td>\n",
       "      <td>...</td>\n",
       "      <td>...</td>\n",
       "      <td>...</td>\n",
       "    </tr>\n",
       "    <tr>\n",
       "      <td>13709</td>\n",
       "      <td>M Is for Magic</td>\n",
       "      <td>Neil Gaiman-Teddy Kristiansen</td>\n",
       "      <td>3.82</td>\n",
       "      <td>eng</td>\n",
       "      <td>260</td>\n",
       "      <td>11317</td>\n",
       "      <td>1060</td>\n",
       "    </tr>\n",
       "    <tr>\n",
       "      <td>13710</td>\n",
       "      <td>Black Orchid</td>\n",
       "      <td>Neil Gaiman-Dave McKean</td>\n",
       "      <td>3.72</td>\n",
       "      <td>eng</td>\n",
       "      <td>160</td>\n",
       "      <td>8710</td>\n",
       "      <td>361</td>\n",
       "    </tr>\n",
       "    <tr>\n",
       "      <td>13711</td>\n",
       "      <td>InterWorld (InterWorld  #1)</td>\n",
       "      <td>Neil Gaiman-Michael Reaves</td>\n",
       "      <td>3.53</td>\n",
       "      <td>en-US</td>\n",
       "      <td>239</td>\n",
       "      <td>14334</td>\n",
       "      <td>1485</td>\n",
       "    </tr>\n",
       "    <tr>\n",
       "      <td>13712</td>\n",
       "      <td>The Faeries' Oracle</td>\n",
       "      <td>Brian Froud-Jessica Macbeth</td>\n",
       "      <td>4.43</td>\n",
       "      <td>eng</td>\n",
       "      <td>224</td>\n",
       "      <td>1550</td>\n",
       "      <td>38</td>\n",
       "    </tr>\n",
       "    <tr>\n",
       "      <td>13713</td>\n",
       "      <td>The World of The Dark Crystal</td>\n",
       "      <td>Brian Froud</td>\n",
       "      <td>4.29</td>\n",
       "      <td>eng</td>\n",
       "      <td>132</td>\n",
       "      <td>3572</td>\n",
       "      <td>33</td>\n",
       "    </tr>\n",
       "  </tbody>\n",
       "</table>\n",
       "<p>13666 rows × 7 columns</p>\n",
       "</div>"
      ],
      "text/plain": [
       "                                                   title  \\\n",
       "0      Harry Potter and the Half-Blood Prince (Harry ...   \n",
       "1      Harry Potter and the Order of the Phoenix (Har...   \n",
       "2      Harry Potter and the Sorcerer's Stone (Harry P...   \n",
       "3      Harry Potter and the Chamber of Secrets (Harry...   \n",
       "4      Harry Potter and the Prisoner of Azkaban (Harr...   \n",
       "...                                                  ...   \n",
       "13709                                     M Is for Magic   \n",
       "13710                                       Black Orchid   \n",
       "13711                        InterWorld (InterWorld  #1)   \n",
       "13712                                The Faeries' Oracle   \n",
       "13713                      The World of The Dark Crystal   \n",
       "\n",
       "                             authors  average_rating language_code  \\\n",
       "0         J.K. Rowling-Mary GrandPré            4.56           eng   \n",
       "1         J.K. Rowling-Mary GrandPré            4.49           eng   \n",
       "2         J.K. Rowling-Mary GrandPré            4.47           eng   \n",
       "3                       J.K. Rowling            4.41           eng   \n",
       "4         J.K. Rowling-Mary GrandPré            4.55           eng   \n",
       "...                              ...             ...           ...   \n",
       "13709  Neil Gaiman-Teddy Kristiansen            3.82           eng   \n",
       "13710        Neil Gaiman-Dave McKean            3.72           eng   \n",
       "13711     Neil Gaiman-Michael Reaves            3.53         en-US   \n",
       "13712    Brian Froud-Jessica Macbeth            4.43           eng   \n",
       "13713                    Brian Froud            4.29           eng   \n",
       "\n",
       "       pages_count  ratings_count  text_reviews_count  \n",
       "0              652        1944099               26249  \n",
       "1              870        1996446               27613  \n",
       "2              320        5629932               70390  \n",
       "3              352           6267                 272  \n",
       "4              435        2149872               33964  \n",
       "...            ...            ...                 ...  \n",
       "13709          260          11317                1060  \n",
       "13710          160           8710                 361  \n",
       "13711          239          14334                1485  \n",
       "13712          224           1550                  38  \n",
       "13713          132           3572                  33  \n",
       "\n",
       "[13666 rows x 7 columns]"
      ]
     },
     "execution_count": 17,
     "metadata": {},
     "output_type": "execute_result"
    }
   ],
   "source": [
    "print(\"Let`s focus on books ranging between 1-1500 pages.\")\n",
    "limited_by_page_count_books = books_data[books_data.pages_count <= 1500]\n",
    "limited_by_page_count_books"
   ]
  },
  {
   "cell_type": "code",
   "execution_count": 18,
   "metadata": {},
   "outputs": [
    {
     "data": {
      "image/png": "[encoded data removed]",
      "text/plain": [
       "<Figure size 576x576 with 1 Axes>"
      ]
     },
     "metadata": {
      "needs_background": "light"
     },
     "output_type": "display_data"
    }
   ],
   "source": [
    "scatter_plot(limited_by_page_count_books.average_rating,\n",
    "             limited_by_page_count_books.pages_count,\n",
    "             pages_count_and_average_rating_title,\n",
    "             average_rating_label,\n",
    "             pages_count_label)"
   ]
  },
  {
   "cell_type": "code",
   "execution_count": 19,
   "metadata": {},
   "outputs": [
    {
     "data": {
      "text/plain": [
       "([], <a list of 0 Text xticklabel objects>)"
      ]
     },
     "execution_count": 19,
     "metadata": {},
     "output_type": "execute_result"
    },
    {
     "data": {
      "image/png": "[encoded data removed]",
      "text/plain": [
       "<Figure size 576x576 with 1 Axes>"
      ]
     },
     "metadata": {
      "needs_background": "light"
     },
     "output_type": "display_data"
    }
   ],
   "source": [
    "plt.subplots(figsize=(8, 8))\n",
    "plt.title(\"People preferences in regards to pages count \")\n",
    "violionplot = plt.violinplot(limited_by_page_count_books.pages_count, showmeans=True, points=1000, widths=1)\n",
    "plt.xticks([], None)"
   ]
  },
  {
   "cell_type": "markdown",
   "metadata": {},
   "source": [
    "We can conclude that people tend to prefer books with pages count between 200 and 400."
   ]
  },
  {
   "cell_type": "code",
   "execution_count": 20,
   "metadata": {},
   "outputs": [
    {
     "data": {
      "text/html": [
       "<div>\n",
       "<style scoped>\n",
       "    .dataframe tbody tr th:only-of-type {\n",
       "        vertical-align: middle;\n",
       "    }\n",
       "\n",
       "    .dataframe tbody tr th {\n",
       "        vertical-align: top;\n",
       "    }\n",
       "\n",
       "    .dataframe thead th {\n",
       "        text-align: right;\n",
       "    }\n",
       "</style>\n",
       "<table border=\"1\" class=\"dataframe\">\n",
       "  <thead>\n",
       "    <tr style=\"text-align: right;\">\n",
       "      <th></th>\n",
       "      <th>title</th>\n",
       "      <th>authors</th>\n",
       "      <th>average_rating</th>\n",
       "      <th>language_code</th>\n",
       "      <th>pages_count</th>\n",
       "      <th>ratings_count</th>\n",
       "      <th>text_reviews_count</th>\n",
       "    </tr>\n",
       "  </thead>\n",
       "  <tbody>\n",
       "    <tr>\n",
       "      <td>339</td>\n",
       "      <td>The 5 Love Languages / The 5 Love Languages Jo...</td>\n",
       "      <td>Gary Chapman</td>\n",
       "      <td>4.71</td>\n",
       "      <td>eng</td>\n",
       "      <td>0</td>\n",
       "      <td>20</td>\n",
       "      <td>4</td>\n",
       "    </tr>\n",
       "    <tr>\n",
       "      <td>421</td>\n",
       "      <td>The Clan of the Cave Bear  Part 1 of 2 (Earth'...</td>\n",
       "      <td>Jean M. Auel-Donada  Peters</td>\n",
       "      <td>4.43</td>\n",
       "      <td>eng</td>\n",
       "      <td>0</td>\n",
       "      <td>611</td>\n",
       "      <td>34</td>\n",
       "    </tr>\n",
       "    <tr>\n",
       "      <td>959</td>\n",
       "      <td>The Tragedy of Pudd'nhead Wilson</td>\n",
       "      <td>Mark Twain-Michael Prichard</td>\n",
       "      <td>3.79</td>\n",
       "      <td>eng</td>\n",
       "      <td>0</td>\n",
       "      <td>3</td>\n",
       "      <td>0</td>\n",
       "    </tr>\n",
       "    <tr>\n",
       "      <td>977</td>\n",
       "      <td>The Lady and the Unicorn</td>\n",
       "      <td>Tracy Chevalier</td>\n",
       "      <td>3.68</td>\n",
       "      <td>eng</td>\n",
       "      <td>0</td>\n",
       "      <td>303</td>\n",
       "      <td>24</td>\n",
       "    </tr>\n",
       "    <tr>\n",
       "      <td>1426</td>\n",
       "      <td>The Da Vinci Code (Robert Langdon  #2)</td>\n",
       "      <td>Dan Brown-Paul Michael</td>\n",
       "      <td>3.82</td>\n",
       "      <td>eng</td>\n",
       "      <td>0</td>\n",
       "      <td>90</td>\n",
       "      <td>16</td>\n",
       "    </tr>\n",
       "    <tr>\n",
       "      <td>...</td>\n",
       "      <td>...</td>\n",
       "      <td>...</td>\n",
       "      <td>...</td>\n",
       "      <td>...</td>\n",
       "      <td>...</td>\n",
       "      <td>...</td>\n",
       "      <td>...</td>\n",
       "    </tr>\n",
       "    <tr>\n",
       "      <td>12072</td>\n",
       "      <td>Fine Lines (One-Eyed Mack  #6)</td>\n",
       "      <td>Jim Lehrer</td>\n",
       "      <td>3.23</td>\n",
       "      <td>eng</td>\n",
       "      <td>0</td>\n",
       "      <td>17</td>\n",
       "      <td>3</td>\n",
       "    </tr>\n",
       "    <tr>\n",
       "      <td>12594</td>\n",
       "      <td>Stowaway and Milk Run: Two Unabridged Stories ...</td>\n",
       "      <td>Mary Higgins Clark-Jan Maxwell</td>\n",
       "      <td>3.40</td>\n",
       "      <td>eng</td>\n",
       "      <td>0</td>\n",
       "      <td>55</td>\n",
       "      <td>0</td>\n",
       "    </tr>\n",
       "    <tr>\n",
       "      <td>12960</td>\n",
       "      <td>The Mask of the Enchantress</td>\n",
       "      <td>Victoria Holt</td>\n",
       "      <td>3.84</td>\n",
       "      <td>eng</td>\n",
       "      <td>0</td>\n",
       "      <td>20</td>\n",
       "      <td>1</td>\n",
       "    </tr>\n",
       "    <tr>\n",
       "      <td>13147</td>\n",
       "      <td>Treasury of American Tall Tales: Volume 1: Dav...</td>\n",
       "      <td>David Bromberg-Jay Ungar-Molly Mason-Garrison ...</td>\n",
       "      <td>3.86</td>\n",
       "      <td>eng</td>\n",
       "      <td>0</td>\n",
       "      <td>36</td>\n",
       "      <td>9</td>\n",
       "    </tr>\n",
       "    <tr>\n",
       "      <td>13321</td>\n",
       "      <td>Appetite for Life: The Biography of Julia Child</td>\n",
       "      <td>Noël Riley Fitch-Nadia May</td>\n",
       "      <td>4.06</td>\n",
       "      <td>eng</td>\n",
       "      <td>0</td>\n",
       "      <td>37</td>\n",
       "      <td>5</td>\n",
       "    </tr>\n",
       "  </tbody>\n",
       "</table>\n",
       "<p>85 rows × 7 columns</p>\n",
       "</div>"
      ],
      "text/plain": [
       "                                                   title  \\\n",
       "339    The 5 Love Languages / The 5 Love Languages Jo...   \n",
       "421    The Clan of the Cave Bear  Part 1 of 2 (Earth'...   \n",
       "959                     The Tragedy of Pudd'nhead Wilson   \n",
       "977                             The Lady and the Unicorn   \n",
       "1426              The Da Vinci Code (Robert Langdon  #2)   \n",
       "...                                                  ...   \n",
       "12072                     Fine Lines (One-Eyed Mack  #6)   \n",
       "12594  Stowaway and Milk Run: Two Unabridged Stories ...   \n",
       "12960                        The Mask of the Enchantress   \n",
       "13147  Treasury of American Tall Tales: Volume 1: Dav...   \n",
       "13321    Appetite for Life: The Biography of Julia Child   \n",
       "\n",
       "                                                 authors  average_rating  \\\n",
       "339                                         Gary Chapman            4.71   \n",
       "421                          Jean M. Auel-Donada  Peters            4.43   \n",
       "959                          Mark Twain-Michael Prichard            3.79   \n",
       "977                                      Tracy Chevalier            3.68   \n",
       "1426                              Dan Brown-Paul Michael            3.82   \n",
       "...                                                  ...             ...   \n",
       "12072                                         Jim Lehrer            3.23   \n",
       "12594                     Mary Higgins Clark-Jan Maxwell            3.40   \n",
       "12960                                      Victoria Holt            3.84   \n",
       "13147  David Bromberg-Jay Ungar-Molly Mason-Garrison ...            3.86   \n",
       "13321                         Noël Riley Fitch-Nadia May            4.06   \n",
       "\n",
       "      language_code  pages_count  ratings_count  text_reviews_count  \n",
       "339             eng            0             20                   4  \n",
       "421             eng            0            611                  34  \n",
       "959             eng            0              3                   0  \n",
       "977             eng            0            303                  24  \n",
       "1426            eng            0             90                  16  \n",
       "...             ...          ...            ...                 ...  \n",
       "12072           eng            0             17                   3  \n",
       "12594           eng            0             55                   0  \n",
       "12960           eng            0             20                   1  \n",
       "13147           eng            0             36                   9  \n",
       "13321           eng            0             37                   5  \n",
       "\n",
       "[85 rows x 7 columns]"
      ]
     },
     "execution_count": 20,
     "metadata": {},
     "output_type": "execute_result"
    }
   ],
   "source": [
    "books_data[books_data[\"pages_count\"] == 0]"
   ]
  },
  {
   "cell_type": "markdown",
   "metadata": {},
   "source": [
    "There are 0 values in the pages_count column. Will replace them with the mean of the column."
   ]
  },
  {
   "cell_type": "code",
   "execution_count": 21,
   "metadata": {},
   "outputs": [
    {
     "data": {
      "text/plain": [
       "Text(0.5, 1.0, 'Boxplot of count of pages')"
      ]
     },
     "execution_count": 21,
     "metadata": {},
     "output_type": "execute_result"
    },
    {
     "data": {
      "image/png": "[encoded data removed]",
      "text/plain": [
       "<Figure size 576x576 with 1 Axes>"
      ]
     },
     "metadata": {
      "needs_background": "light"
     },
     "output_type": "display_data"
    }
   ],
   "source": [
    "plt.subplots(figsize=(8,8))\n",
    "plt.boxplot(books_data.pages_count)\n",
    "plt.xticks([1], [\"Pages count\"])\n",
    "plt.title(\"Boxplot of count of pages\")"
   ]
  },
  {
   "cell_type": "code",
   "execution_count": 22,
   "metadata": {},
   "outputs": [
    {
     "name": "stdout",
     "output_type": "stream",
     "text": [
      "Mean of pages count 337.0\n"
     ]
    }
   ],
   "source": [
    "print(\"Mean of pages count\", float(floor(books_data.pages_count.mean())))"
   ]
  },
  {
   "cell_type": "code",
   "execution_count": 23,
   "metadata": {},
   "outputs": [
    {
     "name": "stdout",
     "output_type": "stream",
     "text": [
      "Count of 0s in pages count column: 0\n",
      "Are there any NaNs in pages count column: False\n"
     ]
    }
   ],
   "source": [
    "books_data.pages_count = books_data.pages_count.replace(0, np.nan)\n",
    "books_data.pages_count.fillna(float(floor(books_data.pages_count.mean())), inplace=True)\n",
    "\n",
    "print(\"Count of 0s in pages count column:\", len(books_data[books_data[\"pages_count\"] == 0]))\n",
    "print(\"Are there any NaNs in pages count column:\" , books_data.pages_count.isna().any().any())"
   ]
  },
  {
   "cell_type": "code",
   "execution_count": 24,
   "metadata": {},
   "outputs": [
    {
     "data": {
      "text/html": [
       "<div>\n",
       "<style scoped>\n",
       "    .dataframe tbody tr th:only-of-type {\n",
       "        vertical-align: middle;\n",
       "    }\n",
       "\n",
       "    .dataframe tbody tr th {\n",
       "        vertical-align: top;\n",
       "    }\n",
       "\n",
       "    .dataframe thead th {\n",
       "        text-align: right;\n",
       "    }\n",
       "</style>\n",
       "<table border=\"1\" class=\"dataframe\">\n",
       "  <thead>\n",
       "    <tr style=\"text-align: right;\">\n",
       "      <th></th>\n",
       "      <th>title</th>\n",
       "      <th>authors</th>\n",
       "      <th>average_rating</th>\n",
       "      <th>language_code</th>\n",
       "      <th>pages_count</th>\n",
       "      <th>ratings_count</th>\n",
       "      <th>text_reviews_count</th>\n",
       "    </tr>\n",
       "  </thead>\n",
       "  <tbody>\n",
       "    <tr>\n",
       "      <td>0</td>\n",
       "      <td>Harry Potter and the Half-Blood Prince (Harry ...</td>\n",
       "      <td>J.K. Rowling-Mary GrandPré</td>\n",
       "      <td>4.56</td>\n",
       "      <td>eng</td>\n",
       "      <td>652.0</td>\n",
       "      <td>1944099</td>\n",
       "      <td>26249</td>\n",
       "    </tr>\n",
       "    <tr>\n",
       "      <td>1</td>\n",
       "      <td>Harry Potter and the Order of the Phoenix (Har...</td>\n",
       "      <td>J.K. Rowling-Mary GrandPré</td>\n",
       "      <td>4.49</td>\n",
       "      <td>eng</td>\n",
       "      <td>870.0</td>\n",
       "      <td>1996446</td>\n",
       "      <td>27613</td>\n",
       "    </tr>\n",
       "    <tr>\n",
       "      <td>2</td>\n",
       "      <td>Harry Potter and the Sorcerer's Stone (Harry P...</td>\n",
       "      <td>J.K. Rowling-Mary GrandPré</td>\n",
       "      <td>4.47</td>\n",
       "      <td>eng</td>\n",
       "      <td>320.0</td>\n",
       "      <td>5629932</td>\n",
       "      <td>70390</td>\n",
       "    </tr>\n",
       "    <tr>\n",
       "      <td>3</td>\n",
       "      <td>Harry Potter and the Chamber of Secrets (Harry...</td>\n",
       "      <td>J.K. Rowling</td>\n",
       "      <td>4.41</td>\n",
       "      <td>eng</td>\n",
       "      <td>352.0</td>\n",
       "      <td>6267</td>\n",
       "      <td>272</td>\n",
       "    </tr>\n",
       "    <tr>\n",
       "      <td>4</td>\n",
       "      <td>Harry Potter and the Prisoner of Azkaban (Harr...</td>\n",
       "      <td>J.K. Rowling-Mary GrandPré</td>\n",
       "      <td>4.55</td>\n",
       "      <td>eng</td>\n",
       "      <td>435.0</td>\n",
       "      <td>2149872</td>\n",
       "      <td>33964</td>\n",
       "    </tr>\n",
       "    <tr>\n",
       "      <td>...</td>\n",
       "      <td>...</td>\n",
       "      <td>...</td>\n",
       "      <td>...</td>\n",
       "      <td>...</td>\n",
       "      <td>...</td>\n",
       "      <td>...</td>\n",
       "      <td>...</td>\n",
       "    </tr>\n",
       "    <tr>\n",
       "      <td>13709</td>\n",
       "      <td>M Is for Magic</td>\n",
       "      <td>Neil Gaiman-Teddy Kristiansen</td>\n",
       "      <td>3.82</td>\n",
       "      <td>eng</td>\n",
       "      <td>260.0</td>\n",
       "      <td>11317</td>\n",
       "      <td>1060</td>\n",
       "    </tr>\n",
       "    <tr>\n",
       "      <td>13710</td>\n",
       "      <td>Black Orchid</td>\n",
       "      <td>Neil Gaiman-Dave McKean</td>\n",
       "      <td>3.72</td>\n",
       "      <td>eng</td>\n",
       "      <td>160.0</td>\n",
       "      <td>8710</td>\n",
       "      <td>361</td>\n",
       "    </tr>\n",
       "    <tr>\n",
       "      <td>13711</td>\n",
       "      <td>InterWorld (InterWorld  #1)</td>\n",
       "      <td>Neil Gaiman-Michael Reaves</td>\n",
       "      <td>3.53</td>\n",
       "      <td>en-US</td>\n",
       "      <td>239.0</td>\n",
       "      <td>14334</td>\n",
       "      <td>1485</td>\n",
       "    </tr>\n",
       "    <tr>\n",
       "      <td>13712</td>\n",
       "      <td>The Faeries' Oracle</td>\n",
       "      <td>Brian Froud-Jessica Macbeth</td>\n",
       "      <td>4.43</td>\n",
       "      <td>eng</td>\n",
       "      <td>224.0</td>\n",
       "      <td>1550</td>\n",
       "      <td>38</td>\n",
       "    </tr>\n",
       "    <tr>\n",
       "      <td>13713</td>\n",
       "      <td>The World of The Dark Crystal</td>\n",
       "      <td>Brian Froud</td>\n",
       "      <td>4.29</td>\n",
       "      <td>eng</td>\n",
       "      <td>132.0</td>\n",
       "      <td>3572</td>\n",
       "      <td>33</td>\n",
       "    </tr>\n",
       "  </tbody>\n",
       "</table>\n",
       "<p>13689 rows × 7 columns</p>\n",
       "</div>"
      ],
      "text/plain": [
       "                                                   title  \\\n",
       "0      Harry Potter and the Half-Blood Prince (Harry ...   \n",
       "1      Harry Potter and the Order of the Phoenix (Har...   \n",
       "2      Harry Potter and the Sorcerer's Stone (Harry P...   \n",
       "3      Harry Potter and the Chamber of Secrets (Harry...   \n",
       "4      Harry Potter and the Prisoner of Azkaban (Harr...   \n",
       "...                                                  ...   \n",
       "13709                                     M Is for Magic   \n",
       "13710                                       Black Orchid   \n",
       "13711                        InterWorld (InterWorld  #1)   \n",
       "13712                                The Faeries' Oracle   \n",
       "13713                      The World of The Dark Crystal   \n",
       "\n",
       "                             authors  average_rating language_code  \\\n",
       "0         J.K. Rowling-Mary GrandPré            4.56           eng   \n",
       "1         J.K. Rowling-Mary GrandPré            4.49           eng   \n",
       "2         J.K. Rowling-Mary GrandPré            4.47           eng   \n",
       "3                       J.K. Rowling            4.41           eng   \n",
       "4         J.K. Rowling-Mary GrandPré            4.55           eng   \n",
       "...                              ...             ...           ...   \n",
       "13709  Neil Gaiman-Teddy Kristiansen            3.82           eng   \n",
       "13710        Neil Gaiman-Dave McKean            3.72           eng   \n",
       "13711     Neil Gaiman-Michael Reaves            3.53         en-US   \n",
       "13712    Brian Froud-Jessica Macbeth            4.43           eng   \n",
       "13713                    Brian Froud            4.29           eng   \n",
       "\n",
       "       pages_count  ratings_count  text_reviews_count  \n",
       "0            652.0        1944099               26249  \n",
       "1            870.0        1996446               27613  \n",
       "2            320.0        5629932               70390  \n",
       "3            352.0           6267                 272  \n",
       "4            435.0        2149872               33964  \n",
       "...            ...            ...                 ...  \n",
       "13709        260.0          11317                1060  \n",
       "13710        160.0           8710                 361  \n",
       "13711        239.0          14334                1485  \n",
       "13712        224.0           1550                  38  \n",
       "13713        132.0           3572                  33  \n",
       "\n",
       "[13689 rows x 7 columns]"
      ]
     },
     "execution_count": 24,
     "metadata": {},
     "output_type": "execute_result"
    }
   ],
   "source": [
    "books_data"
   ]
  },
  {
   "cell_type": "code",
   "execution_count": 25,
   "metadata": {},
   "outputs": [
    {
     "data": {
      "text/plain": [
       "Text(0.5, 1.0, 'Boxplot of count of ratings')"
      ]
     },
     "execution_count": 25,
     "metadata": {},
     "output_type": "execute_result"
    },
    {
     "data": {
      "image/png": "[encoded data removed]",
      "text/plain": [
       "<Figure size 576x576 with 1 Axes>"
      ]
     },
     "metadata": {
      "needs_background": "light"
     },
     "output_type": "display_data"
    }
   ],
   "source": [
    "plt.subplots(figsize=(8,8))\n",
    "plt.boxplot(books_data.ratings_count)\n",
    "plt.xticks([1], [\"Ratings count\"])\n",
    "plt.title(\"Boxplot of count of ratings\")"
   ]
  },
  {
   "cell_type": "markdown",
   "metadata": {},
   "source": [
    "There are a few  ourliers here. I will leave them as they are the most popular books (i.e Harry Potter and Twilight)."
   ]
  },
  {
   "cell_type": "markdown",
   "metadata": {},
   "source": [
    "I`m going to encode all the string and categorical variables."
   ]
  },
  {
   "cell_type": "code",
   "execution_count": 26,
   "metadata": {},
   "outputs": [],
   "source": [
    "encoder = LabelEncoder()\n",
    "books_data.title = encoder.fit_transform(books_data.title)\n",
    "books_data.sample(5)\n",
    "books_data.authors = encoder.fit_transform(books_data.authors)"
   ]
  },
  {
   "cell_type": "code",
   "execution_count": 27,
   "metadata": {},
   "outputs": [],
   "source": [
    "books_data = pd.get_dummies(books_data)"
   ]
  },
  {
   "cell_type": "code",
   "execution_count": 28,
   "metadata": {},
   "outputs": [
    {
     "data": {
      "text/html": [
       "<div>\n",
       "<style scoped>\n",
       "    .dataframe tbody tr th:only-of-type {\n",
       "        vertical-align: middle;\n",
       "    }\n",
       "\n",
       "    .dataframe tbody tr th {\n",
       "        vertical-align: top;\n",
       "    }\n",
       "\n",
       "    .dataframe thead th {\n",
       "        text-align: right;\n",
       "    }\n",
       "</style>\n",
       "<table border=\"1\" class=\"dataframe\">\n",
       "  <thead>\n",
       "    <tr style=\"text-align: right;\">\n",
       "      <th></th>\n",
       "      <th>title</th>\n",
       "      <th>authors</th>\n",
       "      <th>average_rating</th>\n",
       "      <th>pages_count</th>\n",
       "      <th>ratings_count</th>\n",
       "      <th>text_reviews_count</th>\n",
       "      <th>language_code_ale</th>\n",
       "      <th>language_code_ara</th>\n",
       "      <th>language_code_cat</th>\n",
       "      <th>language_code_dan</th>\n",
       "      <th>...</th>\n",
       "      <th>language_code_nl</th>\n",
       "      <th>language_code_nor</th>\n",
       "      <th>language_code_por</th>\n",
       "      <th>language_code_rus</th>\n",
       "      <th>language_code_spa</th>\n",
       "      <th>language_code_srp</th>\n",
       "      <th>language_code_swe</th>\n",
       "      <th>language_code_tur</th>\n",
       "      <th>language_code_wel</th>\n",
       "      <th>language_code_zho</th>\n",
       "    </tr>\n",
       "  </thead>\n",
       "  <tbody>\n",
       "    <tr>\n",
       "      <td>9135</td>\n",
       "      <td>7205</td>\n",
       "      <td>5354</td>\n",
       "      <td>3.32</td>\n",
       "      <td>290.0</td>\n",
       "      <td>4053</td>\n",
       "      <td>660</td>\n",
       "      <td>0</td>\n",
       "      <td>0</td>\n",
       "      <td>0</td>\n",
       "      <td>0</td>\n",
       "      <td>...</td>\n",
       "      <td>0</td>\n",
       "      <td>0</td>\n",
       "      <td>0</td>\n",
       "      <td>0</td>\n",
       "      <td>0</td>\n",
       "      <td>0</td>\n",
       "      <td>0</td>\n",
       "      <td>0</td>\n",
       "      <td>0</td>\n",
       "      <td>0</td>\n",
       "    </tr>\n",
       "    <tr>\n",
       "      <td>5810</td>\n",
       "      <td>9081</td>\n",
       "      <td>5949</td>\n",
       "      <td>4.80</td>\n",
       "      <td>339.0</td>\n",
       "      <td>20</td>\n",
       "      <td>0</td>\n",
       "      <td>0</td>\n",
       "      <td>0</td>\n",
       "      <td>0</td>\n",
       "      <td>0</td>\n",
       "      <td>...</td>\n",
       "      <td>0</td>\n",
       "      <td>0</td>\n",
       "      <td>0</td>\n",
       "      <td>0</td>\n",
       "      <td>0</td>\n",
       "      <td>0</td>\n",
       "      <td>0</td>\n",
       "      <td>0</td>\n",
       "      <td>0</td>\n",
       "      <td>0</td>\n",
       "    </tr>\n",
       "    <tr>\n",
       "      <td>211</td>\n",
       "      <td>8375</td>\n",
       "      <td>5517</td>\n",
       "      <td>3.83</td>\n",
       "      <td>306.0</td>\n",
       "      <td>17317</td>\n",
       "      <td>1138</td>\n",
       "      <td>0</td>\n",
       "      <td>0</td>\n",
       "      <td>0</td>\n",
       "      <td>0</td>\n",
       "      <td>...</td>\n",
       "      <td>0</td>\n",
       "      <td>0</td>\n",
       "      <td>0</td>\n",
       "      <td>0</td>\n",
       "      <td>0</td>\n",
       "      <td>0</td>\n",
       "      <td>0</td>\n",
       "      <td>0</td>\n",
       "      <td>0</td>\n",
       "      <td>0</td>\n",
       "    </tr>\n",
       "    <tr>\n",
       "      <td>5729</td>\n",
       "      <td>3168</td>\n",
       "      <td>1827</td>\n",
       "      <td>3.82</td>\n",
       "      <td>100.0</td>\n",
       "      <td>10</td>\n",
       "      <td>1</td>\n",
       "      <td>0</td>\n",
       "      <td>0</td>\n",
       "      <td>0</td>\n",
       "      <td>0</td>\n",
       "      <td>...</td>\n",
       "      <td>0</td>\n",
       "      <td>0</td>\n",
       "      <td>0</td>\n",
       "      <td>0</td>\n",
       "      <td>0</td>\n",
       "      <td>0</td>\n",
       "      <td>0</td>\n",
       "      <td>0</td>\n",
       "      <td>0</td>\n",
       "      <td>0</td>\n",
       "    </tr>\n",
       "    <tr>\n",
       "      <td>4701</td>\n",
       "      <td>7814</td>\n",
       "      <td>4926</td>\n",
       "      <td>3.84</td>\n",
       "      <td>350.0</td>\n",
       "      <td>3740</td>\n",
       "      <td>47</td>\n",
       "      <td>0</td>\n",
       "      <td>0</td>\n",
       "      <td>0</td>\n",
       "      <td>0</td>\n",
       "      <td>...</td>\n",
       "      <td>0</td>\n",
       "      <td>0</td>\n",
       "      <td>0</td>\n",
       "      <td>0</td>\n",
       "      <td>0</td>\n",
       "      <td>0</td>\n",
       "      <td>0</td>\n",
       "      <td>0</td>\n",
       "      <td>0</td>\n",
       "      <td>0</td>\n",
       "    </tr>\n",
       "  </tbody>\n",
       "</table>\n",
       "<p>5 rows × 36 columns</p>\n",
       "</div>"
      ],
      "text/plain": [
       "      title  authors  average_rating  pages_count  ratings_count  \\\n",
       "9135   7205     5354            3.32        290.0           4053   \n",
       "5810   9081     5949            4.80        339.0             20   \n",
       "211    8375     5517            3.83        306.0          17317   \n",
       "5729   3168     1827            3.82        100.0             10   \n",
       "4701   7814     4926            3.84        350.0           3740   \n",
       "\n",
       "      text_reviews_count  language_code_ale  language_code_ara  \\\n",
       "9135                 660                  0                  0   \n",
       "5810                   0                  0                  0   \n",
       "211                 1138                  0                  0   \n",
       "5729                   1                  0                  0   \n",
       "4701                  47                  0                  0   \n",
       "\n",
       "      language_code_cat  language_code_dan  ...  language_code_nl  \\\n",
       "9135                  0                  0  ...                 0   \n",
       "5810                  0                  0  ...                 0   \n",
       "211                   0                  0  ...                 0   \n",
       "5729                  0                  0  ...                 0   \n",
       "4701                  0                  0  ...                 0   \n",
       "\n",
       "      language_code_nor  language_code_por  language_code_rus  \\\n",
       "9135                  0                  0                  0   \n",
       "5810                  0                  0                  0   \n",
       "211                   0                  0                  0   \n",
       "5729                  0                  0                  0   \n",
       "4701                  0                  0                  0   \n",
       "\n",
       "      language_code_spa  language_code_srp  language_code_swe  \\\n",
       "9135                  0                  0                  0   \n",
       "5810                  0                  0                  0   \n",
       "211                   0                  0                  0   \n",
       "5729                  0                  0                  0   \n",
       "4701                  0                  0                  0   \n",
       "\n",
       "      language_code_tur  language_code_wel  language_code_zho  \n",
       "9135                  0                  0                  0  \n",
       "5810                  0                  0                  0  \n",
       "211                   0                  0                  0  \n",
       "5729                  0                  0                  0  \n",
       "4701                  0                  0                  0  \n",
       "\n",
       "[5 rows x 36 columns]"
      ]
     },
     "execution_count": 28,
     "metadata": {},
     "output_type": "execute_result"
    }
   ],
   "source": [
    "books_data.sample(5)"
   ]
  },
  {
   "cell_type": "code",
   "execution_count": 29,
   "metadata": {},
   "outputs": [
    {
     "data": {
      "text/plain": [
       "(13689, 36)"
      ]
     },
     "execution_count": 29,
     "metadata": {},
     "output_type": "execute_result"
    }
   ],
   "source": [
    "books_data.shape"
   ]
  },
  {
   "cell_type": "code",
   "execution_count": 30,
   "metadata": {},
   "outputs": [
    {
     "data": {
      "text/plain": [
       "Text(0.5, 1.0, 'Boxplot of count of pages')"
      ]
     },
     "execution_count": 30,
     "metadata": {},
     "output_type": "execute_result"
    },
    {
     "data": {
      "image/png": "[encoded data removed]",
      "text/plain": [
       "<Figure size 576x576 with 1 Axes>"
      ]
     },
     "metadata": {
      "needs_background": "light"
     },
     "output_type": "display_data"
    }
   ],
   "source": [
    "plt.subplots(figsize=(8,8))\n",
    "plt.boxplot(books_data.pages_count)\n",
    "plt.xticks([1], [\"Pages count\"])\n",
    "plt.title(\"Boxplot of count of pages\")"
   ]
  },
  {
   "cell_type": "markdown",
   "metadata": {},
   "source": [
    "Now we will focus no the target (i.e the average_rating). A histogram is a good way to visualize the sample."
   ]
  },
  {
   "cell_type": "code",
   "execution_count": 31,
   "metadata": {},
   "outputs": [
    {
     "data": {
      "text/plain": [
       "Text(0.5, 1.0, 'Histogram of the average rating')"
      ]
     },
     "execution_count": 31,
     "metadata": {},
     "output_type": "execute_result"
    },
    {
     "data": {
      "image/png": "[encoded data removed]",
      "text/plain": [
       "<Figure size 576x576 with 1 Axes>"
      ]
     },
     "metadata": {
      "needs_background": "light"
     },
     "output_type": "display_data"
    }
   ],
   "source": [
    "plt.subplots(figsize=(8,8))\n",
    "plt.hist(books_data.average_rating,density=True)\n",
    "plt.xlabel(\"Average rating\")\n",
    "plt.ylabel(\"Density\")\n",
    "plt.title(\"Histogram of the average rating\")"
   ]
  },
  {
   "cell_type": "markdown",
   "metadata": {},
   "source": [
    "From the histogram we see that most of ratings vary from 3 to 4.5. We can conclude that people tend to like the books they rate thus most of the ratings are very high."
   ]
  },
  {
   "cell_type": "markdown",
   "metadata": {},
   "source": [
    "### Chosing the best model for regression\n",
    "I'm going to try whether we can use the non-modified for predictions. If the scores are not good I will try to transform the data using a polynom and repeat the same steps and parameter tuning."
   ]
  },
  {
   "cell_type": "code",
   "execution_count": 32,
   "metadata": {},
   "outputs": [],
   "source": [
    "book_data=StandardScaler().fit_transform(books_data)\n",
    "books_data_attributes =books_data.drop(\"average_rating\", axis =1)\n",
    "books_data_labels =books_data.average_rating\n",
    "\n",
    "X_train, X_test, y_train, y_test = train_test_split (books_data_attributes, books_data_labels, test_size = 0.3)"
   ]
  },
  {
   "cell_type": "code",
   "execution_count": 33,
   "metadata": {},
   "outputs": [],
   "source": [
    "k_fold = list(KFold(n_splits=5, shuffle=True).split(X_train, y_train))"
   ]
  },
  {
   "cell_type": "code",
   "execution_count": 34,
   "metadata": {},
   "outputs": [],
   "source": [
    "def grid_search_best_model(model, params, k_fold, X_train, y_train):\n",
    "    grid_search = GridSearchCV(model,\n",
    "                           params,                             \n",
    "                          cv=k_fold).fit(X_train,y_train)\n",
    "    print(\"Best params\", grid_search.best_params_)\n",
    "    print(\"Best estimator\", grid_search.best_estimator_)\n",
    "    print(\"Best score:\", grid_search.best_score_)\n",
    "    \n",
    "    return grid_search.best_estimator_"
   ]
  },
  {
   "cell_type": "code",
   "execution_count": 35,
   "metadata": {},
   "outputs": [],
   "source": [
    "model_results = {}\n",
    "\n",
    "def score_model(model,X_train, X_test, y_train, y_test,\n",
    "               show_plot=True):   \n",
    "    y_pred = model.predict(X_test)  \n",
    "    print(f\"Training score: {model.score(X_train,y_train)}\")\n",
    "    print(f\"Test score: {r2_score(y_test, y_pred)}\")\n",
    "    print(\"MSE: \", mean_squared_error(y_test, y_pred))\n",
    "    \n",
    "    predictions_comparision = pd.DataFrame({'Actual': y_test.tolist(), 'Predicted': y_pred.tolist()}).sample(25)\n",
    "    if show_plot == True:\n",
    "        predictions_comparision.plot(kind=\"bar\", figsize=(12,8),title=\"Actual vs predicted values\")\n",
    "    print(predictions_comparision.sample(10))    \n",
    "    \n",
    "    \n",
    "    return {\n",
    "        \"training_score\": model.score(X_train,y_train),\n",
    "        \"test_score_r2\" : r2_score(y_test, y_pred),\n",
    "        \"test_score_mse\" : mean_squared_error(y_test, y_pred)\n",
    "    }\n",
    "\n",
    "def compare_results():\n",
    "    for key in model_results:\n",
    "        print(\"Regression: \", key)\n",
    "        print(\"Trainign score\", model_results[key][\"training_score\"])\n",
    "        print(\"R2 Test score \", model_results[key][\"test_score_r2\"])\n",
    "        print(\"MSE Test score \", model_results[key][\"test_score_mse\"])\n",
    "        print()"
   ]
  },
  {
   "cell_type": "code",
   "execution_count": 36,
   "metadata": {},
   "outputs": [
    {
     "name": "stdout",
     "output_type": "stream",
     "text": [
      "Best params {'fit_intercept': True}\n",
      "Best estimator LinearRegression(copy_X=True, fit_intercept=True, n_jobs=None, normalize=False)\n",
      "Best score: 0.026220743850793315\n",
      "Training score: 0.05465157091881012\n",
      "Test score: 0.019113708478992963\n",
      "MSE:  0.11247859277950441\n",
      "      Actual  Predicted\n",
      "1777    4.00   4.010695\n",
      "2065    4.01   3.942140\n",
      "3148    4.04   3.882693\n",
      "1416    3.96   3.892425\n",
      "1402    3.31   3.896429\n",
      "2859    3.59   3.859084\n",
      "2857    4.24   3.865951\n",
      "3143    4.18   3.987841\n",
      "1186    4.27   4.255050\n",
      "597     4.02   3.906516\n"
     ]
    },
    {
     "data": {
      "image/png": "[encoded data removed]",
      "text/plain": [
       "<Figure size 864x576 with 1 Axes>"
      ]
     },
     "metadata": {
      "needs_background": "light"
     },
     "output_type": "display_data"
    }
   ],
   "source": [
    "params={\n",
    "    \"fit_intercept\":[True,False],\n",
    "}\n",
    "\n",
    "linear_regression = grid_search_best_model(LinearRegression(), params, k_fold, X_train, y_train)\n",
    "model_results[\"linear_regression\"] = score_model(linear_regression, X_train, X_test, y_train, y_test)"
   ]
  },
  {
   "cell_type": "code",
   "execution_count": 37,
   "metadata": {},
   "outputs": [
    {
     "name": "stdout",
     "output_type": "stream",
     "text": [
      "Best params {'leaf_size': 20, 'n_neighbors': 29}\n",
      "Best estimator KNeighborsRegressor(algorithm='auto', leaf_size=20, metric='minkowski',\n",
      "                    metric_params=None, n_jobs=None, n_neighbors=29, p=2,\n",
      "                    weights='uniform')\n",
      "Best score: -0.0038429003753813903\n",
      "Training score: 0.06755886981501014\n",
      "Test score: 0.002626160392752097\n",
      "MSE:  0.11436922599882397\n",
      "      Actual  Predicted\n",
      "844     4.01   4.071034\n",
      "3102    4.22   3.867931\n",
      "3227    4.02   3.881034\n",
      "1577    3.85   3.948621\n",
      "1977    3.57   3.927586\n",
      "2761    3.85   3.947931\n",
      "496     4.13   3.858621\n",
      "1623    3.78   3.898621\n",
      "1320    3.76   3.825862\n",
      "1475    4.30   4.021034\n"
     ]
    },
    {
     "data": {
      "image/png": "[encoded data removed]",
      "text/plain": [
       "<Figure size 864x576 with 1 Axes>"
      ]
     },
     "metadata": {
      "needs_background": "light"
     },
     "output_type": "display_data"
    }
   ],
   "source": [
    "params={\n",
    "    \"n_neighbors\": range(2, 30),\n",
    "    \"leaf_size\":[20,30,50,70]\n",
    "}\n",
    "\n",
    "knn = grid_search_best_model(KNeighborsRegressor(), params, k_fold, X_train, y_train)\n",
    "model_results[\"knn\"] = score_model(knn, X_train, X_test, y_train, y_test)"
   ]
  },
  {
   "cell_type": "code",
   "execution_count": 38,
   "metadata": {
    "scrolled": true
   },
   "outputs": [
    {
     "name": "stdout",
     "output_type": "stream",
     "text": [
      "Best params {'max_depth': 50, 'max_leaf_nodes': 20, 'min_samples_leaf': 20, 'min_samples_split': 40}\n",
      "Best estimator DecisionTreeRegressor(criterion='mse', max_depth=50, max_features=None,\n",
      "                      max_leaf_nodes=20, min_impurity_decrease=0.0,\n",
      "                      min_impurity_split=None, min_samples_leaf=20,\n",
      "                      min_samples_split=40, min_weight_fraction_leaf=0.0,\n",
      "                      presort=False, random_state=None, splitter='best')\n",
      "Best score: 0.15273938023368386\n",
      "Training score: 0.2238261658403088\n",
      "Test score: 0.06081093588778619\n",
      "MSE:  0.10769715633545397\n",
      "      Actual  Predicted\n",
      "2684    4.26   4.040775\n",
      "3689    3.74   3.891364\n",
      "3058    3.57   1.484400\n",
      "4070    3.94   3.961019\n",
      "487     3.50   3.894562\n",
      "2030    3.93   3.894562\n",
      "278     3.40   3.848845\n",
      "501     3.89   3.894562\n",
      "3212    3.65   4.040775\n",
      "1833    4.11   3.848845\n"
     ]
    },
    {
     "data": {
      "image/png": "[encoded data removed]",
      "text/plain": [
       "<Figure size 864x576 with 1 Axes>"
      ]
     },
     "metadata": {
      "needs_background": "light"
     },
     "output_type": "display_data"
    }
   ],
   "source": [
    "params = {    \"min_samples_split\": [10, 20, 40],\n",
    "              \"max_depth\": [2, 6, 8, 15, 50],\n",
    "              \"min_samples_leaf\": [5, 20, 30],\n",
    "              \"max_leaf_nodes\": [5, 20],\n",
    "              }\n",
    "dtr = grid_search_best_model(DecisionTreeRegressor(), params, k_fold, X_train, y_train)\n",
    "model_results[\"dtr\"] = score_model(dtr, X_train, X_test, y_train, y_test)"
   ]
  },
  {
   "cell_type": "code",
   "execution_count": 39,
   "metadata": {},
   "outputs": [
    {
     "name": "stdout",
     "output_type": "stream",
     "text": [
      "Best params {'learning_rate': 1, 'n_estimators': 1000}\n",
      "Best estimator AdaBoostRegressor(base_estimator=None, learning_rate=1, loss='linear',\n",
      "                  n_estimators=1000, random_state=None)\n",
      "Best score: 0.1167738112357136\n",
      "Training score: 0.23344257437711746\n",
      "Test score: 0.01832877116059284\n",
      "MSE:  0.11256860183127418\n",
      "      Actual  Predicted\n",
      "907     4.04   3.917230\n",
      "2181    3.88   3.910247\n",
      "2098    3.86   3.874567\n",
      "59      4.03   3.915021\n",
      "2533    4.35   3.874567\n",
      "1614    3.49   3.875060\n",
      "628     3.82   3.998397\n",
      "2424    4.16   4.020968\n",
      "2918    3.64   3.917230\n",
      "3400    3.21   3.874567\n"
     ]
    },
    {
     "data": {
      "image/png": "[encoded data removed]",
      "text/plain": [
       "<Figure size 864x576 with 1 Axes>"
      ]
     },
     "metadata": {
      "needs_background": "light"
     },
     "output_type": "display_data"
    }
   ],
   "source": [
    "params = {\"learning_rate\":[0.3, 0.5,1],\n",
    "          \"n_estimators\": [50, 100,200,400,700,1000]\n",
    "              }\n",
    "abr = grid_search_best_model(AdaBoostRegressor(), params, k_fold, X_train, y_train)\n",
    "model_results[\"abr\"] = score_model(abr, X_train, X_test, y_train, y_test)"
   ]
  },
  {
   "cell_type": "markdown",
   "metadata": {},
   "source": [
    "The data is normalized using the standar scaler. Will try to use relatively small C."
   ]
  },
  {
   "cell_type": "code",
   "execution_count": 40,
   "metadata": {},
   "outputs": [
    {
     "name": "stdout",
     "output_type": "stream",
     "text": [
      "Best params {'C': 0.1, 'fit_intercept': True}\n",
      "Best estimator LinearSVR(C=0.1, dual=True, epsilon=0.0, fit_intercept=True,\n",
      "          intercept_scaling=1.0, loss='epsilon_insensitive', max_iter=1000,\n",
      "          random_state=None, tol=0.0001, verbose=0)\n",
      "Best score: -447.3088716518204\n",
      "Training score: -52.46650719212725\n",
      "Test score: -40.487973429633215\n",
      "MSE:  4.757441213091593\n",
      "      Actual  Predicted\n",
      "1680    3.94   3.075523\n",
      "2358    4.13   4.296769\n",
      "3642    3.99   7.166097\n",
      "3544    4.06   4.320165\n",
      "912     3.74   5.215212\n",
      "3139    3.91   4.942050\n",
      "26      3.69   8.028200\n",
      "1371    3.56   3.424698\n",
      "3059    4.14   4.462631\n",
      "3882    4.22   3.645142\n"
     ]
    },
    {
     "data": {
      "image/png": "[encoded data removed]",
      "text/plain": [
       "<Figure size 864x576 with 1 Axes>"
      ]
     },
     "metadata": {
      "needs_background": "light"
     },
     "output_type": "display_data"
    }
   ],
   "source": [
    "params = {\n",
    "  \"C\": [0.1,1, 5, 10, 150,500,1000,5000],\n",
    "    \"fit_intercept\":[True,False]\n",
    "}\n",
    "linear_svr = grid_search_best_model(LinearSVR(), params,k_fold, X_train, y_train)\n",
    "model_results[\"linear_svr\"] = score_model(linear_svr, X_train, X_test, y_train, y_test)"
   ]
  },
  {
   "cell_type": "code",
   "execution_count": 41,
   "metadata": {},
   "outputs": [
    {
     "name": "stdout",
     "output_type": "stream",
     "text": [
      "Best params {'learning_rate': 0.05, 'max_depth': 10, 'max_features': 0.3, 'min_samples_leaf': 5, 'n_estimators': 100}\n",
      "Best estimator GradientBoostingRegressor(alpha=0.9, criterion='friedman_mse', init=None,\n",
      "                          learning_rate=0.05, loss='ls', max_depth=10,\n",
      "                          max_features=0.3, max_leaf_nodes=None,\n",
      "                          min_impurity_decrease=0.0, min_impurity_split=None,\n",
      "                          min_samples_leaf=5, min_samples_split=2,\n",
      "                          min_weight_fraction_leaf=0.0, n_estimators=100,\n",
      "                          n_iter_no_change=None, presort='auto',\n",
      "                          random_state=None, subsample=1.0, tol=0.0001,\n",
      "                          validation_fraction=0.1, verbose=0, warm_start=False)\n",
      "Best score: 0.20478382652742433\n",
      "Training score: 0.5486441662586472\n",
      "Test score: 0.12250123343038744\n",
      "MSE:  0.10062310716612463\n",
      "      Actual  Predicted\n",
      "278     3.40   3.785467\n",
      "3727    4.15   4.001967\n",
      "1891    3.69   3.846426\n",
      "3975    4.06   3.994848\n",
      "1317    4.31   4.103366\n",
      "1192    3.78   3.862023\n",
      "57      3.54   3.698265\n",
      "3692    3.76   3.846269\n",
      "3476    3.98   3.963292\n",
      "2354    4.05   3.925652\n"
     ]
    },
    {
     "data": {
      "image/png": "[encoded data removed]",
      "text/plain": [
       "<Figure size 864x576 with 1 Axes>"
      ]
     },
     "metadata": {
      "needs_background": "light"
     },
     "output_type": "display_data"
    }
   ],
   "source": [
    "params={\"n_estimators\":[20, 50, 100,200], \n",
    "        \"learning_rate\": [0.01, 0.05, 0.1, 0.3],\n",
    "         \"max_depth\":[3,5,10], \n",
    "        \"min_samples_leaf\": [3,5],\n",
    "          \"max_features\": [0.3, 1]\n",
    "       }        \n",
    "\n",
    "gbr = grid_search_best_model(GradientBoostingRegressor(), params,k_fold, X_train, y_train)\n",
    "model_results[\"gbr\"] = score_model(gbr, X_train, X_test, y_train, y_test)"
   ]
  },
  {
   "cell_type": "code",
   "execution_count": 42,
   "metadata": {},
   "outputs": [
    {
     "name": "stdout",
     "output_type": "stream",
     "text": [
      "Best params {'C': 1, 'epsilon': 0.01, 'gamma': 0.001}\n",
      "Best estimator SVR(C=1, cache_size=200, coef0=0.0, degree=3, epsilon=0.01, gamma=0.001,\n",
      "    kernel='rbf', max_iter=-1, shrinking=True, tol=0.001, verbose=False)\n",
      "Best score: 0.01604185881811424\n",
      "Training score: 0.8025762519618768\n",
      "Test score: 0.024288337199910193\n",
      "MSE:  0.11188521619577968\n",
      "      Actual  Predicted\n",
      "3154    4.05   3.934626\n",
      "2588    3.79   3.936716\n",
      "1215    3.86   3.934626\n",
      "2628    4.21   3.934734\n",
      "2845    4.12   3.934626\n",
      "3996    3.90   3.934626\n",
      "1084    3.81   3.934626\n",
      "584     4.45   3.934626\n",
      "3782    3.66   3.934626\n",
      "1089    4.02   3.934626\n"
     ]
    },
    {
     "data": {
      "image/png": "[encoded data removed]",
      "text/plain": [
       "<Figure size 864x576 with 1 Axes>"
      ]
     },
     "metadata": {
      "needs_background": "light"
     },
     "output_type": "display_data"
    }
   ],
   "source": [
    "params = { \n",
    "    \"C\": [1, 5, 50, 100],\n",
    "    \"gamma\": [0.001, 0.01, 0.1],\n",
    "    \"epsilon\" : [0.01, 0.1]\n",
    "}\n",
    "\n",
    "gaussian_svr = grid_search_best_model(SVR(), params, k_fold,X_train, y_train)\n",
    "model_results[\"gaussian_svr\"] = score_model(gaussian_svr, X_train, X_test, y_train, y_test)"
   ]
  },
  {
   "cell_type": "markdown",
   "metadata": {},
   "source": [
    "From what we can see the score of all algorithms are not very good. Plus some overfit. I will try\n",
    "to transform the data with polynom of 2nd degree in order to improve the scores."
   ]
  },
  {
   "cell_type": "code",
   "execution_count": 43,
   "metadata": {},
   "outputs": [],
   "source": [
    "quad_transformer= PolynomialFeatures(degree=2, interaction_only=True)\n",
    "books_data_attributes_quad_transformed = quad_transformer.fit_transform(books_data_attributes)\n",
    "X_train_quad_transformed, X_test_quad_transformed, y_train_quad_transformed, y_test_quad_transformed = train_test_split (books_data_attributes_quad_transformed, books_data_labels, test_size = 0.3)\n",
    "k_fold_quad_transformed = list(KFold(n_splits=5, shuffle=True).split(X_train_quad_transformed, y_train_quad_transformed))"
   ]
  },
  {
   "cell_type": "code",
   "execution_count": 44,
   "metadata": {},
   "outputs": [
    {
     "name": "stdout",
     "output_type": "stream",
     "text": [
      "Best params {'fit_intercept': False}\n",
      "Best estimator LinearRegression(copy_X=True, fit_intercept=False, n_jobs=None, normalize=False)\n",
      "Best score: -88.89060025978347\n",
      "Training score: 0.06345786730555081\n",
      "Test score: -1915.5158807841945\n",
      "MSE:  254.12715344416515\n",
      "      Actual  Predicted\n",
      "2683    4.18   3.940324\n",
      "1094    3.70   3.867918\n",
      "3458    3.32   3.929093\n",
      "2623    4.20   3.926336\n",
      "30      3.88   3.866363\n",
      "1824    4.22   3.828282\n",
      "694     3.99   3.974696\n",
      "932     4.28   3.879171\n",
      "2358    4.18   3.852064\n",
      "1608    3.31   3.915600\n"
     ]
    },
    {
     "data": {
      "image/png": "[encoded data removed]",
      "text/plain": [
       "<Figure size 864x576 with 1 Axes>"
      ]
     },
     "metadata": {
      "needs_background": "light"
     },
     "output_type": "display_data"
    }
   ],
   "source": [
    "params={\n",
    "    \"fit_intercept\":[True,False],\n",
    "}\n",
    "\n",
    "linear_regression_quad_transformed = grid_search_best_model(LinearRegression(), params, k_fold_quad_transformed,X_train_quad_transformed, y_train_quad_transformed)\n",
    "model_results[\"linear_regression_quad_transformed\"] = score_model(linear_regression_quad_transformed, X_train_quad_transformed, X_test_quad_transformed, y_train_quad_transformed, y_test_quad_transformed)"
   ]
  },
  {
   "cell_type": "code",
   "execution_count": 45,
   "metadata": {},
   "outputs": [
    {
     "name": "stdout",
     "output_type": "stream",
     "text": [
      "Best params {'learning_rate': 0.5, 'n_estimators': 400}\n",
      "Best estimator AdaBoostRegressor(base_estimator=None, learning_rate=0.5, loss='linear',\n",
      "                  n_estimators=400, random_state=None)\n",
      "Best score: 0.11986968483308676\n",
      "Training score: 0.21927182034470874\n",
      "Test score: 0.11038612418830973\n",
      "MSE:  0.11796147592158285\n",
      "      Actual  Predicted\n",
      "3564    3.97   3.897465\n",
      "292     4.38   3.697470\n",
      "1018    3.54   3.897465\n",
      "880     4.05   3.897465\n",
      "706     3.98   3.897465\n",
      "764     3.57   3.897465\n",
      "1908    4.02   3.897465\n",
      "3892    4.33   2.453408\n",
      "2941    4.32   3.909103\n",
      "605     3.63   3.897465\n"
     ]
    },
    {
     "data": {
      "image/png": "[encoded data removed]",
      "text/plain": [
       "<Figure size 864x576 with 1 Axes>"
      ]
     },
     "metadata": {
      "needs_background": "light"
     },
     "output_type": "display_data"
    }
   ],
   "source": [
    "params = {\"learning_rate\":[0.3, 0.5,1],\n",
    "          \"n_estimators\": [50, 100,200,400]}\n",
    "              \n",
    "abr_quad_transformed = grid_search_best_model(AdaBoostRegressor(), params,k_fold_quad_transformed,  X_train_quad_transformed, y_train_quad_transformed)\n",
    "model_results[\"abr_quad_transformed\"] = score_model(abr_quad_transformed, X_train_quad_transformed, X_test_quad_transformed, y_train_quad_transformed, y_test_quad_transformed)"
   ]
  },
  {
   "cell_type": "code",
   "execution_count": 46,
   "metadata": {},
   "outputs": [
    {
     "name": "stdout",
     "output_type": "stream",
     "text": [
      "Best params {'learning_rate': 0.05, 'max_depth': 10, 'max_features': 0.3, 'min_samples_leaf': 5, 'n_estimators': 50}\n",
      "Best estimator GradientBoostingRegressor(alpha=0.9, criterion='friedman_mse', init=None,\n",
      "                          learning_rate=0.05, loss='ls', max_depth=10,\n",
      "                          max_features=0.3, max_leaf_nodes=None,\n",
      "                          min_impurity_decrease=0.0, min_impurity_split=None,\n",
      "                          min_samples_leaf=5, min_samples_split=2,\n",
      "                          min_weight_fraction_leaf=0.0, n_estimators=50,\n",
      "                          n_iter_no_change=None, presort='auto',\n",
      "                          random_state=None, subsample=1.0, tol=0.0001,\n",
      "                          validation_fraction=0.1, verbose=0, warm_start=False)\n",
      "Best score: 0.19811365437545178\n",
      "Training score: 0.5302009665029186\n",
      "Test score: 0.18695256844121644\n",
      "MSE:  0.10780887936737588\n",
      "      Actual  Predicted\n",
      "1087    4.28   4.205785\n",
      "582     3.68   3.859051\n",
      "1462    3.91   3.927412\n",
      "441     3.78   3.904838\n",
      "1549    3.97   3.906189\n",
      "2638    3.89   3.844968\n",
      "1065    3.68   3.971978\n",
      "293     3.26   3.885882\n",
      "1861    3.82   3.722159\n",
      "3528    4.19   3.986447\n"
     ]
    },
    {
     "data": {
      "image/png": "[encoded data removed]",
      "text/plain": [
       "<Figure size 864x576 with 1 Axes>"
      ]
     },
     "metadata": {
      "needs_background": "light"
     },
     "output_type": "display_data"
    }
   ],
   "source": [
    "params={\"n_estimators\":[20, 50, 100,200,400], \n",
    "        \"learning_rate\": [0.01, 0.05, 0.1, 0.3],\n",
    "         \"max_depth\":[3,5,10], \n",
    "        \"min_samples_leaf\": [3,5],\n",
    "        \"max_features\": [0.3, 1]\n",
    "       }        \n",
    "\n",
    "gbr_quad_transformed = grid_search_best_model(GradientBoostingRegressor(), params,k_fold_quad_transformed,  X_train_quad_transformed, y_train_quad_transformed)\n",
    "model_results[\"gbr_quad_transformed\"] = score_model(gbr_quad_transformed,  X_train_quad_transformed,\n",
    "                                                    X_test_quad_transformed, y_train_quad_transformed, y_test_quad_transformed)"
   ]
  },
  {
   "cell_type": "markdown",
   "metadata": {},
   "source": [
    "### Comparing the results"
   ]
  },
  {
   "cell_type": "code",
   "execution_count": 47,
   "metadata": {},
   "outputs": [
    {
     "name": "stdout",
     "output_type": "stream",
     "text": [
      "Regression:  linear_regression\n",
      "Trainign score 0.05465157091881012\n",
      "R2 Test score  0.019113708478992963\n",
      "MSE Test score  0.11247859277950441\n",
      "\n",
      "Regression:  knn\n",
      "Trainign score 0.06755886981501014\n",
      "R2 Test score  0.002626160392752097\n",
      "MSE Test score  0.11436922599882397\n",
      "\n",
      "Regression:  dtr\n",
      "Trainign score 0.2238261658403088\n",
      "R2 Test score  0.06081093588778619\n",
      "MSE Test score  0.10769715633545397\n",
      "\n",
      "Regression:  abr\n",
      "Trainign score 0.23344257437711746\n",
      "R2 Test score  0.01832877116059284\n",
      "MSE Test score  0.11256860183127418\n",
      "\n",
      "Regression:  linear_svr\n",
      "Trainign score -52.46650719212725\n",
      "R2 Test score  -40.487973429633215\n",
      "MSE Test score  4.757441213091593\n",
      "\n",
      "Regression:  gbr\n",
      "Trainign score 0.5486441662586472\n",
      "R2 Test score  0.12250123343038744\n",
      "MSE Test score  0.10062310716612463\n",
      "\n",
      "Regression:  gaussian_svr\n",
      "Trainign score 0.8025762519618768\n",
      "R2 Test score  0.024288337199910193\n",
      "MSE Test score  0.11188521619577968\n",
      "\n",
      "Regression:  linear_regression_quad_transformed\n",
      "Trainign score 0.06345786730555081\n",
      "R2 Test score  -1915.5158807841945\n",
      "MSE Test score  254.12715344416515\n",
      "\n",
      "Regression:  abr_quad_transformed\n",
      "Trainign score 0.21927182034470874\n",
      "R2 Test score  0.11038612418830973\n",
      "MSE Test score  0.11796147592158285\n",
      "\n",
      "Regression:  gbr_quad_transformed\n",
      "Trainign score 0.5302009665029186\n",
      "R2 Test score  0.18695256844121644\n",
      "MSE Test score  0.10780887936737588\n",
      "\n"
     ]
    }
   ],
   "source": [
    "compare_results()"
   ]
  },
  {
   "cell_type": "markdown",
   "metadata": {},
   "source": [
    "From the observations we see that a GradientBoostingRegressor with preprocessed data (using polynoms of 2nd degree) performed the best on the test data with score like ~19%. On the training data it did good - around 53%. However the overall scores are not very good but the actual vs. predicted data printed displays some satisfying results."
   ]
  },
  {
   "cell_type": "markdown",
   "metadata": {},
   "source": [
    "### Serializing the best model"
   ]
  },
  {
   "cell_type": "code",
   "execution_count": 48,
   "metadata": {},
   "outputs": [
    {
     "name": "stdout",
     "output_type": "stream",
     "text": [
      "Successfully dumped the model to books_model.pkl\n"
     ]
    }
   ],
   "source": [
    "model_dump_filename = \"books_model.pkl\"\n",
    "pickle.dump(gbr_quad_transformed, open(model_dump_filename, \"wb\"))\n",
    "print(\"Successfully dumped the model to\", model_dump_filename)"
   ]
  }
 ],
 "metadata": {
  "kernelspec": {
   "display_name": "Python 3",
   "language": "python",
   "name": "python3"
  },
  "language_info": {
   "codemirror_mode": {
    "name": "ipython",
    "version": 3
   },
   "file_extension": ".py",
   "mimetype": "text/x-python",
   "name": "python",
   "nbconvert_exporter": "python",
   "pygments_lexer": "ipython3",
   "version": "3.7.3"
  }
 },
 "nbformat": 4,
 "nbformat_minor": 2
}
